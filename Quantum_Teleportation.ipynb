{
  "nbformat": 4,
  "nbformat_minor": 0,
  "metadata": {
    "kernelspec": {
      "display_name": "Python 3",
      "language": "python",
      "name": "python3"
    },
    "language_info": {
      "codemirror_mode": {
        "name": "ipython",
        "version": 3
      },
      "file_extension": ".py",
      "mimetype": "text/x-python",
      "name": "python",
      "nbconvert_exporter": "python",
      "pygments_lexer": "ipython3",
      "version": "3.7.4"
    },
    "colab": {
      "name": "Quantum Teleportation.ipynb",
      "provenance": []
    }
  },
  "cells": [
    {
      "cell_type": "code",
      "metadata": {
        "id": "yMpkX8-dlC3F",
        "colab": {
          "base_uri": "https://localhost:8080/"
        },
        "outputId": "1d7b23cd-66b4-42fc-cfcc-f495bdd2fc8c"
      },
      "source": [
        "!pip install qiskit"
      ],
      "execution_count": null,
      "outputs": [
        {
          "output_type": "stream",
          "text": [
            "Requirement already satisfied: qiskit in /usr/local/lib/python3.7/dist-packages (0.25.3)\n",
            "Requirement already satisfied: qiskit-ibmq-provider==0.12.3 in /usr/local/lib/python3.7/dist-packages (from qiskit) (0.12.3)\n",
            "Requirement already satisfied: qiskit-aer==0.8.2 in /usr/local/lib/python3.7/dist-packages (from qiskit) (0.8.2)\n",
            "Requirement already satisfied: qiskit-ignis==0.6.0 in /usr/local/lib/python3.7/dist-packages (from qiskit) (0.6.0)\n",
            "Requirement already satisfied: qiskit-terra==0.17.1 in /usr/local/lib/python3.7/dist-packages (from qiskit) (0.17.1)\n",
            "Requirement already satisfied: qiskit-aqua==0.9.1 in /usr/local/lib/python3.7/dist-packages (from qiskit) (0.9.1)\n",
            "Requirement already satisfied: urllib3>=1.21.1 in /usr/local/lib/python3.7/dist-packages (from qiskit-ibmq-provider==0.12.3->qiskit) (1.24.3)\n",
            "Requirement already satisfied: websockets>=8 in /usr/local/lib/python3.7/dist-packages (from qiskit-ibmq-provider==0.12.3->qiskit) (8.1)\n",
            "Requirement already satisfied: requests-ntlm>=1.1.0 in /usr/local/lib/python3.7/dist-packages (from qiskit-ibmq-provider==0.12.3->qiskit) (1.1.0)\n",
            "Requirement already satisfied: python-dateutil>=2.8.0 in /usr/local/lib/python3.7/dist-packages (from qiskit-ibmq-provider==0.12.3->qiskit) (2.8.1)\n",
            "Requirement already satisfied: requests>=2.19 in /usr/local/lib/python3.7/dist-packages (from qiskit-ibmq-provider==0.12.3->qiskit) (2.23.0)\n",
            "Requirement already satisfied: numpy>=1.13 in /usr/local/lib/python3.7/dist-packages (from qiskit-ibmq-provider==0.12.3->qiskit) (1.19.5)\n",
            "Requirement already satisfied: nest-asyncio!=1.1.0,>=1.0.0 in /usr/local/lib/python3.7/dist-packages (from qiskit-ibmq-provider==0.12.3->qiskit) (1.5.1)\n",
            "Requirement already satisfied: scipy>=1.0 in /usr/local/lib/python3.7/dist-packages (from qiskit-aer==0.8.2->qiskit) (1.4.1)\n",
            "Requirement already satisfied: pybind11>=2.6 in /usr/local/lib/python3.7/dist-packages (from qiskit-aer==0.8.2->qiskit) (2.6.2)\n",
            "Requirement already satisfied: retworkx>=0.8.0 in /usr/local/lib/python3.7/dist-packages (from qiskit-ignis==0.6.0->qiskit) (0.8.0)\n",
            "Requirement already satisfied: setuptools>=40.1.0 in /usr/local/lib/python3.7/dist-packages (from qiskit-ignis==0.6.0->qiskit) (56.0.0)\n",
            "Requirement already satisfied: dill>=0.3 in /usr/local/lib/python3.7/dist-packages (from qiskit-terra==0.17.1->qiskit) (0.3.3)\n",
            "Requirement already satisfied: ply>=3.10 in /usr/local/lib/python3.7/dist-packages (from qiskit-terra==0.17.1->qiskit) (3.11)\n",
            "Requirement already satisfied: fastjsonschema>=2.10 in /usr/local/lib/python3.7/dist-packages (from qiskit-terra==0.17.1->qiskit) (2.15.0)\n",
            "Requirement already satisfied: sympy>=1.3 in /usr/local/lib/python3.7/dist-packages (from qiskit-terra==0.17.1->qiskit) (1.7.1)\n",
            "Requirement already satisfied: jsonschema>=2.6 in /usr/local/lib/python3.7/dist-packages (from qiskit-terra==0.17.1->qiskit) (2.6.0)\n",
            "Requirement already satisfied: python-constraint>=1.4 in /usr/local/lib/python3.7/dist-packages (from qiskit-terra==0.17.1->qiskit) (1.4.0)\n",
            "Requirement already satisfied: psutil>=5 in /usr/local/lib/python3.7/dist-packages (from qiskit-terra==0.17.1->qiskit) (5.4.8)\n",
            "Requirement already satisfied: quandl<=3.6.0 in /usr/local/lib/python3.7/dist-packages (from qiskit-aqua==0.9.1->qiskit) (3.6.0)\n",
            "Requirement already satisfied: fastdtw<=0.3.4 in /usr/local/lib/python3.7/dist-packages (from qiskit-aqua==0.9.1->qiskit) (0.3.4)\n",
            "Requirement already satisfied: scikit-learn<=0.24.1,>=0.20.0 in /usr/local/lib/python3.7/dist-packages (from qiskit-aqua==0.9.1->qiskit) (0.22.2.post1)\n",
            "Requirement already satisfied: dlx<=1.0.4 in /usr/local/lib/python3.7/dist-packages (from qiskit-aqua==0.9.1->qiskit) (1.0.4)\n",
            "Requirement already satisfied: yfinance<=0.1.55 in /usr/local/lib/python3.7/dist-packages (from qiskit-aqua==0.9.1->qiskit) (0.1.55)\n",
            "Requirement already satisfied: h5py<=3.1.0 in /usr/local/lib/python3.7/dist-packages (from qiskit-aqua==0.9.1->qiskit) (2.10.0)\n",
            "Requirement already satisfied: pandas<=1.2.3 in /usr/local/lib/python3.7/dist-packages (from qiskit-aqua==0.9.1->qiskit) (1.1.5)\n",
            "Requirement already satisfied: docplex<=2.20.204; sys_platform != \"darwin\" in /usr/local/lib/python3.7/dist-packages (from qiskit-aqua==0.9.1->qiskit) (2.20.204)\n",
            "Requirement already satisfied: cryptography>=1.3 in /usr/local/lib/python3.7/dist-packages (from requests-ntlm>=1.1.0->qiskit-ibmq-provider==0.12.3->qiskit) (3.4.7)\n",
            "Requirement already satisfied: ntlm-auth>=1.0.2 in /usr/local/lib/python3.7/dist-packages (from requests-ntlm>=1.1.0->qiskit-ibmq-provider==0.12.3->qiskit) (1.5.0)\n",
            "Requirement already satisfied: six>=1.5 in /usr/local/lib/python3.7/dist-packages (from python-dateutil>=2.8.0->qiskit-ibmq-provider==0.12.3->qiskit) (1.15.0)\n",
            "Requirement already satisfied: certifi>=2017.4.17 in /usr/local/lib/python3.7/dist-packages (from requests>=2.19->qiskit-ibmq-provider==0.12.3->qiskit) (2020.12.5)\n",
            "Requirement already satisfied: idna<3,>=2.5 in /usr/local/lib/python3.7/dist-packages (from requests>=2.19->qiskit-ibmq-provider==0.12.3->qiskit) (2.10)\n",
            "Requirement already satisfied: chardet<4,>=3.0.2 in /usr/local/lib/python3.7/dist-packages (from requests>=2.19->qiskit-ibmq-provider==0.12.3->qiskit) (3.0.4)\n",
            "Requirement already satisfied: mpmath>=0.19 in /usr/local/lib/python3.7/dist-packages (from sympy>=1.3->qiskit-terra==0.17.1->qiskit) (1.2.1)\n",
            "Requirement already satisfied: inflection>=0.3.1 in /usr/local/lib/python3.7/dist-packages (from quandl<=3.6.0->qiskit-aqua==0.9.1->qiskit) (0.5.1)\n",
            "Requirement already satisfied: more-itertools in /usr/local/lib/python3.7/dist-packages (from quandl<=3.6.0->qiskit-aqua==0.9.1->qiskit) (8.7.0)\n",
            "Requirement already satisfied: joblib>=0.11 in /usr/local/lib/python3.7/dist-packages (from scikit-learn<=0.24.1,>=0.20.0->qiskit-aqua==0.9.1->qiskit) (1.0.1)\n",
            "Requirement already satisfied: lxml>=4.5.1 in /usr/local/lib/python3.7/dist-packages (from yfinance<=0.1.55->qiskit-aqua==0.9.1->qiskit) (4.6.3)\n",
            "Requirement already satisfied: multitasking>=0.0.7 in /usr/local/lib/python3.7/dist-packages (from yfinance<=0.1.55->qiskit-aqua==0.9.1->qiskit) (0.0.9)\n",
            "Requirement already satisfied: pytz>=2017.2 in /usr/local/lib/python3.7/dist-packages (from pandas<=1.2.3->qiskit-aqua==0.9.1->qiskit) (2018.9)\n",
            "Requirement already satisfied: cffi>=1.12 in /usr/local/lib/python3.7/dist-packages (from cryptography>=1.3->requests-ntlm>=1.1.0->qiskit-ibmq-provider==0.12.3->qiskit) (1.14.5)\n",
            "Requirement already satisfied: pycparser in /usr/local/lib/python3.7/dist-packages (from cffi>=1.12->cryptography>=1.3->requests-ntlm>=1.1.0->qiskit-ibmq-provider==0.12.3->qiskit) (2.20)\n"
          ],
          "name": "stdout"
        }
      ]
    },
    {
      "cell_type": "markdown",
      "metadata": {
        "id": "4iglLdfClARQ"
      },
      "source": [
        "# Quantum Teleportation\n",
        "\n",
        "Contrary to the name, quantum teleportation doesn't actually teleport a qubit physically, but instead teleports the information. Regardless of the distance between the qubits, the information will be reflected on the other qubit instantly, and without any medium required in between (thanks to entanglement).\n",
        "\n",
        "Of course, this means that the required number of qubits already be present at the receiving end. Copying in the manner classical bits do is not possible, since that would measure the quantum state, effectively destroying the quantum state we're trying to copy.\n",
        "\n",
        "suppose Alice wants to send a qubit to bob who is far away. before they move away they had entangled their qubits and now each has on of it. Now second qubit in our system is one of the entangled qubit that alice has. while the third qubit is second of the entangled qubit that bob has. While firsr qubit is the information we want to transfer to bob without knowing what it is.  \n",
        "\n",
        "Here we will try to get make a qubit 1 in state |1> (information), and transfer it to qubit 3 which is far away. \n",
        " \n",
        "Since qubits start out in the `|0>` state, we'll `x` `q0` to make it a `|1>`."
      ]
    },
    {
      "cell_type": "code",
      "metadata": {
        "id": "jWinzccClARY",
        "colab": {
          "base_uri": "https://localhost:8080/",
          "height": 155
        },
        "outputId": "a2300df6-5ac7-429b-accb-988dee2c6db7"
      },
      "source": [
        "import qiskit\n",
        "from qiskit.tools import visualization\n",
        "\n",
        "circuit = qiskit.QuantumCircuit(3, 3)\n",
        "circuit.x(0)\n",
        "circuit.draw()\n",
        "\n"
      ],
      "execution_count": null,
      "outputs": [
        {
          "output_type": "execute_result",
          "data": {
            "text/html": [
              "<pre style=\"word-wrap: normal;white-space: pre;background: #fff0;line-height: 1.1;font-family: &quot;Courier New&quot;,Courier,monospace\">     ┌───┐\n",
              "q_0: ┤ X ├\n",
              "     └───┘\n",
              "q_1: ─────\n",
              "          \n",
              "q_2: ─────\n",
              "          \n",
              "c: 3/═════\n",
              "          </pre>"
            ],
            "text/plain": [
              "     ┌───┐\n",
              "q_0: ┤ X ├\n",
              "     └───┘\n",
              "q_1: ─────\n",
              "          \n",
              "q_2: ─────\n",
              "          \n",
              "c: 3/═════\n",
              "          "
            ]
          },
          "metadata": {
            "tags": []
          },
          "execution_count": 128
        }
      ]
    },
    {
      "cell_type": "markdown",
      "metadata": {
        "id": "cAEkY44MlARa"
      },
      "source": [
        "Now, we try to entangle qubit 2 and 3 as required. Since quantum teleportation requires that the qubits be entangled, we'll entangle `q1` and `q2`. To achive the entanglement form of $\\frac{1}{2^{1/2}} (|00> + |11>)$ we will use CNot gate.\n"
      ]
    },
    {
      "cell_type": "code",
      "metadata": {
        "id": "IlcoZuFKlARb",
        "colab": {
          "base_uri": "https://localhost:8080/",
          "height": 155
        },
        "outputId": "ded06803-f1f5-494c-e29b-ddb42d9a4c0a"
      },
      "source": [
        "circuit.barrier()\n",
        "circuit.h(1)\n",
        "circuit.cx(1, 2)\n",
        "circuit.draw()"
      ],
      "execution_count": null,
      "outputs": [
        {
          "output_type": "execute_result",
          "data": {
            "text/html": [
              "<pre style=\"word-wrap: normal;white-space: pre;background: #fff0;line-height: 1.1;font-family: &quot;Courier New&quot;,Courier,monospace\">     ┌───┐ ░           \n",
              "q_0: ┤ X ├─░───────────\n",
              "     └───┘ ░ ┌───┐     \n",
              "q_1: ──────░─┤ H ├──■──\n",
              "           ░ └───┘┌─┴─┐\n",
              "q_2: ──────░──────┤ X ├\n",
              "           ░      └───┘\n",
              "c: 3/══════════════════\n",
              "                       </pre>"
            ],
            "text/plain": [
              "     ┌───┐ ░           \n",
              "q_0: ┤ X ├─░───────────\n",
              "     └───┘ ░ ┌───┐     \n",
              "q_1: ──────░─┤ H ├──■──\n",
              "           ░ └───┘┌─┴─┐\n",
              "q_2: ──────░──────┤ X ├\n",
              "           ░      └───┘\n",
              "c: 3/══════════════════\n",
              "                       "
            ]
          },
          "metadata": {
            "tags": []
          },
          "execution_count": 129
        }
      ]
    },
    {
      "cell_type": "markdown",
      "metadata": {
        "id": "nUPeJNpxlARb"
      },
      "source": [
        "According to the quantum teleportation protocol, we'll need to apply a controlled-NOT and Hadamard gate to `q0` and `q1`. as a part of the algorythm."
      ]
    },
    {
      "cell_type": "code",
      "metadata": {
        "id": "KoR2FlKZlARb",
        "colab": {
          "base_uri": "https://localhost:8080/",
          "height": 155
        },
        "outputId": "bfef12e1-8129-4fc7-a1b3-4e5077cad558"
      },
      "source": [
        "circuit.cx(0, 1)\n",
        "circuit.h(0)\n",
        "circuit.draw()"
      ],
      "execution_count": null,
      "outputs": [
        {
          "output_type": "execute_result",
          "data": {
            "text/html": [
              "<pre style=\"word-wrap: normal;white-space: pre;background: #fff0;line-height: 1.1;font-family: &quot;Courier New&quot;,Courier,monospace\">     ┌───┐ ░                ┌───┐\n",
              "q_0: ┤ X ├─░─────────────■──┤ H ├\n",
              "     └───┘ ░ ┌───┐     ┌─┴─┐└───┘\n",
              "q_1: ──────░─┤ H ├──■──┤ X ├─────\n",
              "           ░ └───┘┌─┴─┐└───┘     \n",
              "q_2: ──────░──────┤ X ├──────────\n",
              "           ░      └───┘          \n",
              "c: 3/════════════════════════════\n",
              "                                 </pre>"
            ],
            "text/plain": [
              "     ┌───┐ ░                ┌───┐\n",
              "q_0: ┤ X ├─░─────────────■──┤ H ├\n",
              "     └───┘ ░ ┌───┐     ┌─┴─┐└───┘\n",
              "q_1: ──────░─┤ H ├──■──┤ X ├─────\n",
              "           ░ └───┘┌─┴─┐└───┘     \n",
              "q_2: ──────░──────┤ X ├──────────\n",
              "           ░      └───┘          \n",
              "c: 3/════════════════════════════\n",
              "                                 "
            ]
          },
          "metadata": {
            "tags": []
          },
          "execution_count": 130
        }
      ]
    },
    {
      "cell_type": "markdown",
      "metadata": {
        "id": "wWouyeo7lARc"
      },
      "source": [
        "Let's measure `q0` and `q1`."
      ]
    },
    {
      "cell_type": "code",
      "metadata": {
        "id": "EmT3GzYxlARc",
        "colab": {
          "base_uri": "https://localhost:8080/",
          "height": 155
        },
        "outputId": "6caa8a20-6971-44d3-c3b6-1e1530b9247f"
      },
      "source": [
        "circuit.barrier()\n",
        "circuit.measure([0, 1], [0, 1])\n",
        "circuit.draw()"
      ],
      "execution_count": null,
      "outputs": [
        {
          "output_type": "execute_result",
          "data": {
            "text/html": [
              "<pre style=\"word-wrap: normal;white-space: pre;background: #fff0;line-height: 1.1;font-family: &quot;Courier New&quot;,Courier,monospace\">     ┌───┐ ░                ┌───┐ ░ ┌─┐   \n",
              "q_0: ┤ X ├─░─────────────■──┤ H ├─░─┤M├───\n",
              "     └───┘ ░ ┌───┐     ┌─┴─┐└───┘ ░ └╥┘┌─┐\n",
              "q_1: ──────░─┤ H ├──■──┤ X ├──────░──╫─┤M├\n",
              "           ░ └───┘┌─┴─┐└───┘      ░  ║ └╥┘\n",
              "q_2: ──────░──────┤ X ├───────────░──╫──╫─\n",
              "           ░      └───┘           ░  ║  ║ \n",
              "c: 3/════════════════════════════════╩══╩═\n",
              "                                     0  1 </pre>"
            ],
            "text/plain": [
              "     ┌───┐ ░                ┌───┐ ░ ┌─┐   \n",
              "q_0: ┤ X ├─░─────────────■──┤ H ├─░─┤M├───\n",
              "     └───┘ ░ ┌───┐     ┌─┴─┐└───┘ ░ └╥┘┌─┐\n",
              "q_1: ──────░─┤ H ├──■──┤ X ├──────░──╫─┤M├\n",
              "           ░ └───┘┌─┴─┐└───┘      ░  ║ └╥┘\n",
              "q_2: ──────░──────┤ X ├───────────░──╫──╫─\n",
              "           ░      └───┘           ░  ║  ║ \n",
              "c: 3/════════════════════════════════╩══╩═\n",
              "                                     0  1 "
            ]
          },
          "metadata": {
            "tags": []
          },
          "execution_count": 131
        }
      ]
    },
    {
      "cell_type": "markdown",
      "metadata": {
        "id": "rBhluNZGlARc"
      },
      "source": [
        "At this point, we will get four outcomes from the measurement of the first two qubits which are,\n",
        "\n",
        "{ $ |01> |0> , |11> |0> , |00> |1> , |10> |1> $ }. \n",
        "\n",
        "from the above set we can say that, first part tells us the outcome of the firsr two qubits while last part tells us the outcome of the third qubit. As we know the information is $|1>$, so last two sets gives the right answer while firsr two does not. also we can say that all four answer has equal probability. So to get the correct answer will 100% we will use cnot gate on two and three after the measurement. that will flip the qubit 3 in firsr two case. which is what we want. and that will give us the right answer with full certainty."
      ]
    },
    {
      "cell_type": "code",
      "metadata": {
        "id": "yR6e2I8hlARd",
        "colab": {
          "base_uri": "https://localhost:8080/",
          "height": 155
        },
        "outputId": "92151c39-04ee-47e2-f981-6692b6427996"
      },
      "source": [
        "circuit.barrier()\n",
        "circuit.cx(1, 2)\n",
        "#circuit.cz(0, 2)\n",
        "circuit.draw()"
      ],
      "execution_count": null,
      "outputs": [
        {
          "output_type": "execute_result",
          "data": {
            "text/html": [
              "<pre style=\"word-wrap: normal;white-space: pre;background: #fff0;line-height: 1.1;font-family: &quot;Courier New&quot;,Courier,monospace\">     ┌───┐ ░                ┌───┐ ░ ┌─┐    ░      \n",
              "q_0: ┤ X ├─░─────────────■──┤ H ├─░─┤M├────░──────\n",
              "     └───┘ ░ ┌───┐     ┌─┴─┐└───┘ ░ └╥┘┌─┐ ░      \n",
              "q_1: ──────░─┤ H ├──■──┤ X ├──────░──╫─┤M├─░───■──\n",
              "           ░ └───┘┌─┴─┐└───┘      ░  ║ └╥┘ ░ ┌─┴─┐\n",
              "q_2: ──────░──────┤ X ├───────────░──╫──╫──░─┤ X ├\n",
              "           ░      └───┘           ░  ║  ║  ░ └───┘\n",
              "c: 3/════════════════════════════════╩══╩═════════\n",
              "                                     0  1         </pre>"
            ],
            "text/plain": [
              "     ┌───┐ ░                ┌───┐ ░ ┌─┐    ░      \n",
              "q_0: ┤ X ├─░─────────────■──┤ H ├─░─┤M├────░──────\n",
              "     └───┘ ░ ┌───┐     ┌─┴─┐└───┘ ░ └╥┘┌─┐ ░      \n",
              "q_1: ──────░─┤ H ├──■──┤ X ├──────░──╫─┤M├─░───■──\n",
              "           ░ └───┘┌─┴─┐└───┘      ░  ║ └╥┘ ░ ┌─┴─┐\n",
              "q_2: ──────░──────┤ X ├───────────░──╫──╫──░─┤ X ├\n",
              "           ░      └───┘           ░  ║  ║  ░ └───┘\n",
              "c: 3/════════════════════════════════╩══╩═════════\n",
              "                                     0  1         "
            ]
          },
          "metadata": {
            "tags": []
          },
          "execution_count": 132
        }
      ]
    },
    {
      "cell_type": "markdown",
      "metadata": {
        "id": "_cSO_4yOlARd"
      },
      "source": [
        "And now let's measure the final output."
      ]
    },
    {
      "cell_type": "code",
      "metadata": {
        "id": "LoCk9EhOlARd",
        "colab": {
          "base_uri": "https://localhost:8080/",
          "height": 155
        },
        "outputId": "5f1b928e-3414-4215-f672-456e3b400987"
      },
      "source": [
        "circuit.barrier()\n",
        "circuit.measure(2, 2)\n",
        "circuit.draw()"
      ],
      "execution_count": null,
      "outputs": [
        {
          "output_type": "execute_result",
          "data": {
            "text/html": [
              "<pre style=\"word-wrap: normal;white-space: pre;background: #fff0;line-height: 1.1;font-family: &quot;Courier New&quot;,Courier,monospace\">     ┌───┐ ░                ┌───┐ ░ ┌─┐    ░       ░    \n",
              "q_0: ┤ X ├─░─────────────■──┤ H ├─░─┤M├────░───────░────\n",
              "     └───┘ ░ ┌───┐     ┌─┴─┐└───┘ ░ └╥┘┌─┐ ░       ░    \n",
              "q_1: ──────░─┤ H ├──■──┤ X ├──────░──╫─┤M├─░───■───░────\n",
              "           ░ └───┘┌─┴─┐└───┘      ░  ║ └╥┘ ░ ┌─┴─┐ ░ ┌─┐\n",
              "q_2: ──────░──────┤ X ├───────────░──╫──╫──░─┤ X ├─░─┤M├\n",
              "           ░      └───┘           ░  ║  ║  ░ └───┘ ░ └╥┘\n",
              "c: 3/════════════════════════════════╩══╩═════════════╩═\n",
              "                                     0  1             2 </pre>"
            ],
            "text/plain": [
              "     ┌───┐ ░                ┌───┐ ░ ┌─┐    ░       ░    \n",
              "q_0: ┤ X ├─░─────────────■──┤ H ├─░─┤M├────░───────░────\n",
              "     └───┘ ░ ┌───┐     ┌─┴─┐└───┘ ░ └╥┘┌─┐ ░       ░    \n",
              "q_1: ──────░─┤ H ├──■──┤ X ├──────░──╫─┤M├─░───■───░────\n",
              "           ░ └───┘┌─┴─┐└───┘      ░  ║ └╥┘ ░ ┌─┴─┐ ░ ┌─┐\n",
              "q_2: ──────░──────┤ X ├───────────░──╫──╫──░─┤ X ├─░─┤M├\n",
              "           ░      └───┘           ░  ║  ║  ░ └───┘ ░ └╥┘\n",
              "c: 3/════════════════════════════════╩══╩═════════════╩═\n",
              "                                     0  1             2 "
            ]
          },
          "metadata": {
            "tags": []
          },
          "execution_count": 133
        }
      ]
    },
    {
      "cell_type": "markdown",
      "metadata": {
        "id": "Ti7tZAnLlARe"
      },
      "source": [
        "Let's simulate and measure the circuit to verify that information was teleported from `q0` to `q2`."
      ]
    },
    {
      "cell_type": "code",
      "metadata": {
        "id": "GFN75Md2lARe",
        "colab": {
          "base_uri": "https://localhost:8080/",
          "height": 340
        },
        "outputId": "c50725c1-3d32-4669-c4df-5a56ec082f06"
      },
      "source": [
        "result = qiskit.execute(circuit, backend=qiskit.Aer.get_backend('qasm_simulator'), shots=1024).result()\n",
        "visualization.plot_histogram(result.get_counts())"
      ],
      "execution_count": null,
      "outputs": [
        {
          "output_type": "execute_result",
          "data": {
            "image/png": "[encoded data removed]",
            "text/plain": [
              "<Figure size 504x360 with 1 Axes>"
            ]
          },
          "metadata": {
            "tags": []
          },
          "execution_count": 134
        }
      ]
    },
    {
      "cell_type": "markdown",
      "metadata": {
        "id": "j2zcD3jAzbSq"
      },
      "source": [
        "As we can see last qubit which is at the bottom gives $|1>$ for all four answers when bob measures his qubit. and information is now transformed."
      ]
    },
    {
      "cell_type": "code",
      "metadata": {
        "id": "q8hIk4TlzskQ"
      },
      "source": [
        ""
      ],
      "execution_count": null,
      "outputs": []
    }
  ]
}