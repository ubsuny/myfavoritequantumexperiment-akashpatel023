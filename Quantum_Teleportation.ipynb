{
  "nbformat": 4,
  "nbformat_minor": 0,
  "metadata": {
    "kernelspec": {
      "display_name": "Python 3",
      "language": "python",
      "name": "python3"
    },
    "language_info": {
      "codemirror_mode": {
        "name": "ipython",
        "version": 3
      },
      "file_extension": ".py",
      "mimetype": "text/x-python",
      "name": "python",
      "nbconvert_exporter": "python",
      "pygments_lexer": "ipython3",
      "version": "3.7.4"
    },
    "colab": {
      "name": "Quantum Teleportation.ipynb",
      "provenance": []
    }
  },
  "cells": [
    {
      "cell_type": "code",
      "metadata": {
        "colab": {
          "base_uri": "https://localhost:8080/"
        },
        "id": "yMpkX8-dlC3F",
        "outputId": "2075814a-7884-4653-85ef-9d61d502fbc7"
      },
      "source": [
        "!pip install qiskit"
      ],
      "execution_count": 1,
      "outputs": [
        {
          "output_type": "stream",
          "text": [
            "Collecting qiskit\n",
            "  Downloading https://files.pythonhosted.org/packages/36/93/4c8534dbf6bbc6392f7496d182ac1b9e6a918e2f8e7363d9f98c75c160bc/qiskit-0.25.3.tar.gz\n",
            "Collecting qiskit-terra==0.17.1\n",
            "\u001b[?25l  Downloading https://files.pythonhosted.org/packages/3b/4b/58f79398313098edc4b1d161bd93290e7b9af213545eab7073739a84d58b/qiskit_terra-0.17.1-cp37-cp37m-manylinux2010_x86_64.whl (6.0MB)\n",
            "\u001b[K     |████████████████████████████████| 6.0MB 4.4MB/s \n",
            "\u001b[?25hCollecting qiskit-aer==0.8.2\n",
            "\u001b[?25l  Downloading https://files.pythonhosted.org/packages/c2/d2/6ff15c370b5465b32529b528bf3f4ce1e01f74498be16203aa1c04b67022/qiskit_aer-0.8.2-cp37-cp37m-manylinux2010_x86_64.whl (18.0MB)\n",
            "\u001b[K     |████████████████████████████████| 18.0MB 202kB/s \n",
            "\u001b[?25hCollecting qiskit-ibmq-provider==0.12.3\n",
            "\u001b[?25l  Downloading https://files.pythonhosted.org/packages/23/9a/644547a9ff9262201ee23e936470e7d9c133eb6c0b6d68f09bd0e29e07f6/qiskit_ibmq_provider-0.12.3-py3-none-any.whl (198kB)\n",
            "\u001b[K     |████████████████████████████████| 204kB 43.5MB/s \n",
            "\u001b[?25hCollecting qiskit-ignis==0.6.0\n",
            "\u001b[?25l  Downloading https://files.pythonhosted.org/packages/54/be/a13c828e457e09d979667a61bddbd8c7246aafa94e2501b6a9154429cbea/qiskit_ignis-0.6.0-py3-none-any.whl (207kB)\n",
            "\u001b[K     |████████████████████████████████| 215kB 44.8MB/s \n",
            "\u001b[?25hCollecting qiskit-aqua==0.9.1\n",
            "\u001b[?25l  Downloading https://files.pythonhosted.org/packages/88/79/392c57b978decbb24b902344b536af52c40a751aed0ebbaefa8bc2964cb5/qiskit_aqua-0.9.1-py3-none-any.whl (2.1MB)\n",
            "\u001b[K     |████████████████████████████████| 2.1MB 42.6MB/s \n",
            "\u001b[?25hCollecting retworkx>=0.8.0\n",
            "\u001b[?25l  Downloading https://files.pythonhosted.org/packages/1b/92/f007f8b9d88dcd5b90e363967e5d54431a68c5fe06d83400732e3b438084/retworkx-0.8.0-cp37-cp37m-manylinux2010_x86_64.whl (1.0MB)\n",
            "\u001b[K     |████████████████████████████████| 1.0MB 49.3MB/s \n",
            "\u001b[?25hRequirement already satisfied: psutil>=5 in /usr/local/lib/python3.7/dist-packages (from qiskit-terra==0.17.1->qiskit) (5.4.8)\n",
            "Requirement already satisfied: numpy>=1.17 in /usr/local/lib/python3.7/dist-packages (from qiskit-terra==0.17.1->qiskit) (1.19.5)\n",
            "Requirement already satisfied: jsonschema>=2.6 in /usr/local/lib/python3.7/dist-packages (from qiskit-terra==0.17.1->qiskit) (2.6.0)\n",
            "Collecting ply>=3.10\n",
            "\u001b[?25l  Downloading https://files.pythonhosted.org/packages/a3/58/35da89ee790598a0700ea49b2a66594140f44dec458c07e8e3d4979137fc/ply-3.11-py2.py3-none-any.whl (49kB)\n",
            "\u001b[K     |████████████████████████████████| 51kB 5.1MB/s \n",
            "\u001b[?25hCollecting fastjsonschema>=2.10\n",
            "  Downloading https://files.pythonhosted.org/packages/89/1c/8be51fa42aadc1c1611a52b866e1a5a1032a504f24789cf140b4e6d7c940/fastjsonschema-2.15.0-py3-none-any.whl\n",
            "Requirement already satisfied: sympy>=1.3 in /usr/local/lib/python3.7/dist-packages (from qiskit-terra==0.17.1->qiskit) (1.7.1)\n",
            "Collecting python-constraint>=1.4\n",
            "  Downloading https://files.pythonhosted.org/packages/37/8b/5f1bc2734ca611943e1d6733ee244238679f6410a10cd45ede55a61a8402/python-constraint-1.4.0.tar.bz2\n",
            "Requirement already satisfied: python-dateutil>=2.8.0 in /usr/local/lib/python3.7/dist-packages (from qiskit-terra==0.17.1->qiskit) (2.8.1)\n",
            "Requirement already satisfied: scipy>=1.4 in /usr/local/lib/python3.7/dist-packages (from qiskit-terra==0.17.1->qiskit) (1.4.1)\n",
            "Requirement already satisfied: dill>=0.3 in /usr/local/lib/python3.7/dist-packages (from qiskit-terra==0.17.1->qiskit) (0.3.3)\n",
            "Collecting pybind11>=2.6\n",
            "\u001b[?25l  Downloading https://files.pythonhosted.org/packages/8d/43/7339dbabbc2793718d59703aace4166f53c29ee1c202f6ff5bf8a26c4d91/pybind11-2.6.2-py2.py3-none-any.whl (191kB)\n",
            "\u001b[K     |████████████████████████████████| 194kB 50.9MB/s \n",
            "\u001b[?25hRequirement already satisfied: requests>=2.19 in /usr/local/lib/python3.7/dist-packages (from qiskit-ibmq-provider==0.12.3->qiskit) (2.23.0)\n",
            "Requirement already satisfied: nest-asyncio!=1.1.0,>=1.0.0 in /usr/local/lib/python3.7/dist-packages (from qiskit-ibmq-provider==0.12.3->qiskit) (1.5.1)\n",
            "Collecting websockets>=8\n",
            "\u001b[?25l  Downloading https://files.pythonhosted.org/packages/5a/0b/3ebc752392a368af14dd24ee041683416ac6d2463eead94b311b11e41c82/websockets-8.1-cp37-cp37m-manylinux2010_x86_64.whl (79kB)\n",
            "\u001b[K     |████████████████████████████████| 81kB 6.4MB/s \n",
            "\u001b[?25hRequirement already satisfied: urllib3>=1.21.1 in /usr/local/lib/python3.7/dist-packages (from qiskit-ibmq-provider==0.12.3->qiskit) (1.24.3)\n",
            "Collecting requests-ntlm>=1.1.0\n",
            "  Downloading https://files.pythonhosted.org/packages/03/4b/8b9a1afde8072c4d5710d9fa91433d504325821b038e00237dc8d6d833dc/requests_ntlm-1.1.0-py2.py3-none-any.whl\n",
            "Requirement already satisfied: setuptools>=40.1.0 in /usr/local/lib/python3.7/dist-packages (from qiskit-ignis==0.6.0->qiskit) (56.0.0)\n",
            "Requirement already satisfied: scikit-learn<=0.24.1,>=0.20.0 in /usr/local/lib/python3.7/dist-packages (from qiskit-aqua==0.9.1->qiskit) (0.22.2.post1)\n",
            "Collecting quandl<=3.6.0\n",
            "  Downloading https://files.pythonhosted.org/packages/c2/58/9f0e69d836045e3865d263e9ed49f42b23a58526fdabb30f74c430baee3f/Quandl-3.6.0-py2.py3-none-any.whl\n",
            "Requirement already satisfied: fastdtw<=0.3.4 in /usr/local/lib/python3.7/dist-packages (from qiskit-aqua==0.9.1->qiskit) (0.3.4)\n",
            "Requirement already satisfied: pandas<=1.2.3 in /usr/local/lib/python3.7/dist-packages (from qiskit-aqua==0.9.1->qiskit) (1.1.5)\n",
            "Collecting docplex<=2.20.204; sys_platform != \"darwin\"\n",
            "\u001b[?25l  Downloading https://files.pythonhosted.org/packages/87/99/6f7c219b39fd58c84688ad0713eb932bfcf6be81fc74519e43ea9c915b56/docplex-2.20.204.tar.gz (611kB)\n",
            "\u001b[K     |████████████████████████████████| 614kB 50.1MB/s \n",
            "\u001b[?25hCollecting dlx<=1.0.4\n",
            "  Downloading https://files.pythonhosted.org/packages/54/c0/b8fb5bb727e983b6f5251433ef941b48f38c65bb0bd6ec509e9185bcd406/dlx-1.0.4.tar.gz\n",
            "Collecting yfinance<=0.1.55\n",
            "  Downloading https://files.pythonhosted.org/packages/7a/e8/b9d7104d3a4bf39924799067592d9e59119fcfc900a425a12e80a3123ec8/yfinance-0.1.55.tar.gz\n",
            "Requirement already satisfied: h5py<=3.1.0 in /usr/local/lib/python3.7/dist-packages (from qiskit-aqua==0.9.1->qiskit) (2.10.0)\n",
            "Requirement already satisfied: mpmath>=0.19 in /usr/local/lib/python3.7/dist-packages (from sympy>=1.3->qiskit-terra==0.17.1->qiskit) (1.2.1)\n",
            "Requirement already satisfied: six>=1.5 in /usr/local/lib/python3.7/dist-packages (from python-dateutil>=2.8.0->qiskit-terra==0.17.1->qiskit) (1.15.0)\n",
            "Requirement already satisfied: certifi>=2017.4.17 in /usr/local/lib/python3.7/dist-packages (from requests>=2.19->qiskit-ibmq-provider==0.12.3->qiskit) (2020.12.5)\n",
            "Requirement already satisfied: idna<3,>=2.5 in /usr/local/lib/python3.7/dist-packages (from requests>=2.19->qiskit-ibmq-provider==0.12.3->qiskit) (2.10)\n",
            "Requirement already satisfied: chardet<4,>=3.0.2 in /usr/local/lib/python3.7/dist-packages (from requests>=2.19->qiskit-ibmq-provider==0.12.3->qiskit) (3.0.4)\n",
            "Collecting ntlm-auth>=1.0.2\n",
            "  Downloading https://files.pythonhosted.org/packages/ff/84/97c550164b54942b0e908c31ef09d9469f3ba4cd7332a671e2125732f63b/ntlm_auth-1.5.0-py2.py3-none-any.whl\n",
            "Collecting cryptography>=1.3\n",
            "\u001b[?25l  Downloading https://files.pythonhosted.org/packages/b2/26/7af637e6a7e87258b963f1731c5982fb31cd507f0d90d91836e446955d02/cryptography-3.4.7-cp36-abi3-manylinux2014_x86_64.whl (3.2MB)\n",
            "\u001b[K     |████████████████████████████████| 3.2MB 40.4MB/s \n",
            "\u001b[?25hRequirement already satisfied: joblib>=0.11 in /usr/local/lib/python3.7/dist-packages (from scikit-learn<=0.24.1,>=0.20.0->qiskit-aqua==0.9.1->qiskit) (1.0.1)\n",
            "Requirement already satisfied: more-itertools in /usr/local/lib/python3.7/dist-packages (from quandl<=3.6.0->qiskit-aqua==0.9.1->qiskit) (8.7.0)\n",
            "Collecting inflection>=0.3.1\n",
            "  Downloading https://files.pythonhosted.org/packages/59/91/aa6bde563e0085a02a435aa99b49ef75b0a4b062635e606dab23ce18d720/inflection-0.5.1-py2.py3-none-any.whl\n",
            "Requirement already satisfied: pytz>=2017.2 in /usr/local/lib/python3.7/dist-packages (from pandas<=1.2.3->qiskit-aqua==0.9.1->qiskit) (2018.9)\n",
            "Requirement already satisfied: multitasking>=0.0.7 in /usr/local/lib/python3.7/dist-packages (from yfinance<=0.1.55->qiskit-aqua==0.9.1->qiskit) (0.0.9)\n",
            "Collecting lxml>=4.5.1\n",
            "\u001b[?25l  Downloading https://files.pythonhosted.org/packages/cf/4d/6537313bf58fe22b508f08cf3eb86b29b6f9edf68e00454224539421073b/lxml-4.6.3-cp37-cp37m-manylinux1_x86_64.whl (5.5MB)\n",
            "\u001b[K     |████████████████████████████████| 5.5MB 39.1MB/s \n",
            "\u001b[?25hRequirement already satisfied: cffi>=1.12 in /usr/local/lib/python3.7/dist-packages (from cryptography>=1.3->requests-ntlm>=1.1.0->qiskit-ibmq-provider==0.12.3->qiskit) (1.14.5)\n",
            "Requirement already satisfied: pycparser in /usr/local/lib/python3.7/dist-packages (from cffi>=1.12->cryptography>=1.3->requests-ntlm>=1.1.0->qiskit-ibmq-provider==0.12.3->qiskit) (2.20)\n",
            "Building wheels for collected packages: qiskit, python-constraint, docplex, dlx, yfinance\n",
            "  Building wheel for qiskit (setup.py) ... \u001b[?25l\u001b[?25hdone\n",
            "  Created wheel for qiskit: filename=qiskit-0.25.3-cp37-none-any.whl size=3075 sha256=5d1e4a02521ee0c0facfe3d5f96ceee445a8efc0818f1c1e50a6d114f1657e0a\n",
            "  Stored in directory: /root/.cache/pip/wheels/b0/d3/45/edba9b18a40e8f2491476917c2e99d7deb412888ea6ce14eb8\n",
            "  Building wheel for python-constraint (setup.py) ... \u001b[?25l\u001b[?25hdone\n",
            "  Created wheel for python-constraint: filename=python_constraint-1.4.0-py2.py3-none-any.whl size=24079 sha256=03044bacd6f11ab03573b21e9375835bbfb22e7fe57a64edadcad97f617d2824\n",
            "  Stored in directory: /root/.cache/pip/wheels/34/31/15/7b070b25d0a549d20ce2e9fe6d727471c2c61ef904720fd40c\n",
            "  Building wheel for docplex (setup.py) ... \u001b[?25l\u001b[?25hdone\n",
            "  Created wheel for docplex: filename=docplex-2.20.204-cp37-none-any.whl size=675362 sha256=273864080eed4fcb27b9c385b8172da931376def40e1d269990d81056cf373c7\n",
            "  Stored in directory: /root/.cache/pip/wheels/ae/2c/e2/a099ebb6fda8adeba9c5fc2e25659d195ad2f5c6cc5fb75fd4\n",
            "  Building wheel for dlx (setup.py) ... \u001b[?25l\u001b[?25hdone\n",
            "  Created wheel for dlx: filename=dlx-1.0.4-cp37-none-any.whl size=5712 sha256=cb5f280d31b2496c7696a6a40f40c3c26f2a7955991b7952956da82a7f3a2598\n",
            "  Stored in directory: /root/.cache/pip/wheels/bb/ba/15/fdd0deb104df3254912998150ba9245668db06b00af5912d1a\n",
            "  Building wheel for yfinance (setup.py) ... \u001b[?25l\u001b[?25hdone\n",
            "  Created wheel for yfinance: filename=yfinance-0.1.55-py2.py3-none-any.whl size=22616 sha256=f2360eca129e0299329ecb6094a600fdaaf8f450bcaa34b92db01700cf7437b7\n",
            "  Stored in directory: /root/.cache/pip/wheels/04/98/cc/2702a4242d60bdc14f48b4557c427ded1fe92aedf257d4565c\n",
            "Successfully built qiskit python-constraint docplex dlx yfinance\n",
            "Installing collected packages: retworkx, ply, fastjsonschema, python-constraint, qiskit-terra, pybind11, qiskit-aer, websockets, ntlm-auth, cryptography, requests-ntlm, qiskit-ibmq-provider, qiskit-ignis, inflection, quandl, docplex, dlx, lxml, yfinance, qiskit-aqua, qiskit\n",
            "  Found existing installation: lxml 4.2.6\n",
            "    Uninstalling lxml-4.2.6:\n",
            "      Successfully uninstalled lxml-4.2.6\n",
            "Successfully installed cryptography-3.4.7 dlx-1.0.4 docplex-2.20.204 fastjsonschema-2.15.0 inflection-0.5.1 lxml-4.6.3 ntlm-auth-1.5.0 ply-3.11 pybind11-2.6.2 python-constraint-1.4.0 qiskit-0.25.3 qiskit-aer-0.8.2 qiskit-aqua-0.9.1 qiskit-ibmq-provider-0.12.3 qiskit-ignis-0.6.0 qiskit-terra-0.17.1 quandl-3.6.0 requests-ntlm-1.1.0 retworkx-0.8.0 websockets-8.1 yfinance-0.1.55\n"
          ],
          "name": "stdout"
        }
      ]
    },
    {
      "cell_type": "markdown",
      "metadata": {
        "id": "4iglLdfClARQ"
      },
      "source": [
        "# Quantum Teleportation\n",
        "\n",
        "Contrary to the name, quantum teleportation doesn't actually teleport a qubit physically, but instead teleports the information. Regardless of the distance between the qubits, the information will be reflected on the other qubit instantly, and without any medium required in between (thanks to entanglement).\n",
        "\n",
        "Of course, this means that the required number of qubits already be present at the receiving end. Copying in the manner classical bits do is not possible, since that would measure the quantum state, effectively destroying the quantum state we're trying to copy.\n",
        "\n",
        "suppose Alice wants to send a qubit to bob who is far away. before they move away they had entangled their qubits and now each has on of it. Now second qubit in our system is one of the entangled qubit that alice has. while the third qubit is second of the entangled qubit that bob has. While firsr qubit is the information we want to transfer to bob without knowing what it is.  \n",
        "\n",
        "Here we will try to get make a qubit 1 in state |1> (information), and transfer it to qubit 3 which is far away. \n",
        " \n",
        "Since qubits start out in the `|0>` state, we'll `x` `q0` to make it a `|1>`."
      ]
    },
    {
      "cell_type": "code",
      "metadata": {
        "colab": {
          "base_uri": "https://localhost:8080/",
          "height": 153
        },
        "id": "jWinzccClARY",
        "outputId": "f078a425-bed5-47ac-834d-a59bd07024ea"
      },
      "source": [
        "import qiskit\n",
        "from qiskit.tools import visualization\n",
        "from qiskit.providers.aer import QasmSimulator\n",
        "from qiskit.visualization import plot_histogram\n",
        "from qiskit import BasicAer, execute\n",
        "from qiskit.visualization import plot_state_city, plot_bloch_multivector\n",
        "from qiskit.visualization import plot_state_paulivec, plot_state_hinton\n",
        "from qiskit.visualization import plot_state_qsphere\n",
        "\n",
        "circuit = qiskit.QuantumCircuit(3, 3)\n",
        "circuit.x(0)\n",
        "circuit.draw()\n",
        "\n"
      ],
      "execution_count": 29,
      "outputs": [
        {
          "output_type": "execute_result",
          "data": {
            "text/html": [
              "<pre style=\"word-wrap: normal;white-space: pre;background: #fff0;line-height: 1.1;font-family: &quot;Courier New&quot;,Courier,monospace\">     ┌───┐\n",
              "q_0: ┤ X ├\n",
              "     └───┘\n",
              "q_1: ─────\n",
              "          \n",
              "q_2: ─────\n",
              "          \n",
              "c: 3/═════\n",
              "          </pre>"
            ],
            "text/plain": [
              "     ┌───┐\n",
              "q_0: ┤ X ├\n",
              "     └───┘\n",
              "q_1: ─────\n",
              "          \n",
              "q_2: ─────\n",
              "          \n",
              "c: 3/═════\n",
              "          "
            ]
          },
          "metadata": {
            "tags": []
          },
          "execution_count": 29
        }
      ]
    },
    {
      "cell_type": "markdown",
      "metadata": {
        "id": "cAEkY44MlARa"
      },
      "source": [
        "Now, we try to entangle qubit 2 and 3 as required. Since quantum teleportation requires that the qubits be entangled, we'll entangle `q1` and `q2`. To achive the entanglement form of $\\frac{1}{2^{1/2}} (|00> + |11>)$ we will use CNot gate.\n"
      ]
    },
    {
      "cell_type": "code",
      "metadata": {
        "colab": {
          "base_uri": "https://localhost:8080/",
          "height": 153
        },
        "id": "IlcoZuFKlARb",
        "outputId": "46c82996-6b5d-493f-dada-f7f69a5acbb9"
      },
      "source": [
        "circuit.barrier()\n",
        "circuit.h(1)\n",
        "circuit.cx(1, 2)\n",
        "circuit.draw()"
      ],
      "execution_count": 30,
      "outputs": [
        {
          "output_type": "execute_result",
          "data": {
            "text/html": [
              "<pre style=\"word-wrap: normal;white-space: pre;background: #fff0;line-height: 1.1;font-family: &quot;Courier New&quot;,Courier,monospace\">     ┌───┐ ░           \n",
              "q_0: ┤ X ├─░───────────\n",
              "     └───┘ ░ ┌───┐     \n",
              "q_1: ──────░─┤ H ├──■──\n",
              "           ░ └───┘┌─┴─┐\n",
              "q_2: ──────░──────┤ X ├\n",
              "           ░      └───┘\n",
              "c: 3/══════════════════\n",
              "                       </pre>"
            ],
            "text/plain": [
              "     ┌───┐ ░           \n",
              "q_0: ┤ X ├─░───────────\n",
              "     └───┘ ░ ┌───┐     \n",
              "q_1: ──────░─┤ H ├──■──\n",
              "           ░ └───┘┌─┴─┐\n",
              "q_2: ──────░──────┤ X ├\n",
              "           ░      └───┘\n",
              "c: 3/══════════════════\n",
              "                       "
            ]
          },
          "metadata": {
            "tags": []
          },
          "execution_count": 30
        }
      ]
    },
    {
      "cell_type": "markdown",
      "metadata": {
        "id": "nUPeJNpxlARb"
      },
      "source": [
        "According to the quantum teleportation protocol, we'll need to apply a controlled-NOT and Hadamard gate to `q0` and `q1`. as a part of the algorythm."
      ]
    },
    {
      "cell_type": "code",
      "metadata": {
        "colab": {
          "base_uri": "https://localhost:8080/",
          "height": 153
        },
        "id": "KoR2FlKZlARb",
        "outputId": "22cd82dd-e92b-4fcb-93e6-9d2117a94cc2"
      },
      "source": [
        "circuit.cx(0, 1)\n",
        "circuit.h(0)\n",
        "circuit.draw()"
      ],
      "execution_count": 31,
      "outputs": [
        {
          "output_type": "execute_result",
          "data": {
            "text/html": [
              "<pre style=\"word-wrap: normal;white-space: pre;background: #fff0;line-height: 1.1;font-family: &quot;Courier New&quot;,Courier,monospace\">     ┌───┐ ░                ┌───┐\n",
              "q_0: ┤ X ├─░─────────────■──┤ H ├\n",
              "     └───┘ ░ ┌───┐     ┌─┴─┐└───┘\n",
              "q_1: ──────░─┤ H ├──■──┤ X ├─────\n",
              "           ░ └───┘┌─┴─┐└───┘     \n",
              "q_2: ──────░──────┤ X ├──────────\n",
              "           ░      └───┘          \n",
              "c: 3/════════════════════════════\n",
              "                                 </pre>"
            ],
            "text/plain": [
              "     ┌───┐ ░                ┌───┐\n",
              "q_0: ┤ X ├─░─────────────■──┤ H ├\n",
              "     └───┘ ░ ┌───┐     ┌─┴─┐└───┘\n",
              "q_1: ──────░─┤ H ├──■──┤ X ├─────\n",
              "           ░ └───┘┌─┴─┐└───┘     \n",
              "q_2: ──────░──────┤ X ├──────────\n",
              "           ░      └───┘          \n",
              "c: 3/════════════════════════════\n",
              "                                 "
            ]
          },
          "metadata": {
            "tags": []
          },
          "execution_count": 31
        }
      ]
    },
    {
      "cell_type": "markdown",
      "metadata": {
        "id": "wWouyeo7lARc"
      },
      "source": [
        "Let's measure `q0` and `q1`."
      ]
    },
    {
      "cell_type": "code",
      "metadata": {
        "colab": {
          "base_uri": "https://localhost:8080/",
          "height": 153
        },
        "id": "EmT3GzYxlARc",
        "outputId": "bbe27b37-be50-477b-b447-0e083a35caa0"
      },
      "source": [
        "circuit.barrier()\n",
        "circuit.measure([0, 1], [0, 1])\n",
        "circuit.draw()"
      ],
      "execution_count": 32,
      "outputs": [
        {
          "output_type": "execute_result",
          "data": {
            "text/html": [
              "<pre style=\"word-wrap: normal;white-space: pre;background: #fff0;line-height: 1.1;font-family: &quot;Courier New&quot;,Courier,monospace\">     ┌───┐ ░                ┌───┐ ░ ┌─┐   \n",
              "q_0: ┤ X ├─░─────────────■──┤ H ├─░─┤M├───\n",
              "     └───┘ ░ ┌───┐     ┌─┴─┐└───┘ ░ └╥┘┌─┐\n",
              "q_1: ──────░─┤ H ├──■──┤ X ├──────░──╫─┤M├\n",
              "           ░ └───┘┌─┴─┐└───┘      ░  ║ └╥┘\n",
              "q_2: ──────░──────┤ X ├───────────░──╫──╫─\n",
              "           ░      └───┘           ░  ║  ║ \n",
              "c: 3/════════════════════════════════╩══╩═\n",
              "                                     0  1 </pre>"
            ],
            "text/plain": [
              "     ┌───┐ ░                ┌───┐ ░ ┌─┐   \n",
              "q_0: ┤ X ├─░─────────────■──┤ H ├─░─┤M├───\n",
              "     └───┘ ░ ┌───┐     ┌─┴─┐└───┘ ░ └╥┘┌─┐\n",
              "q_1: ──────░─┤ H ├──■──┤ X ├──────░──╫─┤M├\n",
              "           ░ └───┘┌─┴─┐└───┘      ░  ║ └╥┘\n",
              "q_2: ──────░──────┤ X ├───────────░──╫──╫─\n",
              "           ░      └───┘           ░  ║  ║ \n",
              "c: 3/════════════════════════════════╩══╩═\n",
              "                                     0  1 "
            ]
          },
          "metadata": {
            "tags": []
          },
          "execution_count": 32
        }
      ]
    },
    {
      "cell_type": "markdown",
      "metadata": {
        "id": "rBhluNZGlARc"
      },
      "source": [
        "At this point, we will get four outcomes from the measurement of the first two qubits which are,\n",
        "\n",
        "{ $ |01> |0> , |11> |0> , |00> |1> , |10> |1> $ }. \n",
        "\n",
        "from the above set we can say that, first part tells us the outcome of the firsr two qubits while last part tells us the outcome of the third qubit. As we know the information is $|1>$, so last two sets gives the right answer while firsr two does not. also we can say that all four answer has equal probability. So to get the correct answer will 100% we will use cnot gate on two and three after the measurement. that will flip the qubit 3 in firsr two case. which is what we want. and that will give us the right answer with full certainty."
      ]
    },
    {
      "cell_type": "code",
      "metadata": {
        "colab": {
          "base_uri": "https://localhost:8080/",
          "height": 153
        },
        "id": "yR6e2I8hlARd",
        "outputId": "8000b885-a7c0-4449-9917-579023a3f4b7"
      },
      "source": [
        "circuit.barrier()\n",
        "circuit.cx(1, 2)\n",
        "circuit.cz(0, 2)\n",
        "circuit.draw()"
      ],
      "execution_count": 33,
      "outputs": [
        {
          "output_type": "execute_result",
          "data": {
            "text/html": [
              "<pre style=\"word-wrap: normal;white-space: pre;background: #fff0;line-height: 1.1;font-family: &quot;Courier New&quot;,Courier,monospace\">     ┌───┐ ░                ┌───┐ ░ ┌─┐    ░         \n",
              "q_0: ┤ X ├─░─────────────■──┤ H ├─░─┤M├────░───────■─\n",
              "     └───┘ ░ ┌───┐     ┌─┴─┐└───┘ ░ └╥┘┌─┐ ░       │ \n",
              "q_1: ──────░─┤ H ├──■──┤ X ├──────░──╫─┤M├─░───■───┼─\n",
              "           ░ └───┘┌─┴─┐└───┘      ░  ║ └╥┘ ░ ┌─┴─┐ │ \n",
              "q_2: ──────░──────┤ X ├───────────░──╫──╫──░─┤ X ├─■─\n",
              "           ░      └───┘           ░  ║  ║  ░ └───┘   \n",
              "c: 3/════════════════════════════════╩══╩════════════\n",
              "                                     0  1            </pre>"
            ],
            "text/plain": [
              "     ┌───┐ ░                ┌───┐ ░ ┌─┐    ░         \n",
              "q_0: ┤ X ├─░─────────────■──┤ H ├─░─┤M├────░───────■─\n",
              "     └───┘ ░ ┌───┐     ┌─┴─┐└───┘ ░ └╥┘┌─┐ ░       │ \n",
              "q_1: ──────░─┤ H ├──■──┤ X ├──────░──╫─┤M├─░───■───┼─\n",
              "           ░ └───┘┌─┴─┐└───┘      ░  ║ └╥┘ ░ ┌─┴─┐ │ \n",
              "q_2: ──────░──────┤ X ├───────────░──╫──╫──░─┤ X ├─■─\n",
              "           ░      └───┘           ░  ║  ║  ░ └───┘   \n",
              "c: 3/════════════════════════════════╩══╩════════════\n",
              "                                     0  1            "
            ]
          },
          "metadata": {
            "tags": []
          },
          "execution_count": 33
        }
      ]
    },
    {
      "cell_type": "markdown",
      "metadata": {
        "id": "_cSO_4yOlARd"
      },
      "source": [
        "And now let's measure the final output."
      ]
    },
    {
      "cell_type": "code",
      "metadata": {
        "colab": {
          "base_uri": "https://localhost:8080/",
          "height": 153
        },
        "id": "LoCk9EhOlARd",
        "outputId": "2e3ec00f-1e05-406c-e951-f551d3fc377c"
      },
      "source": [
        "circuit.barrier()\n",
        "circuit.measure(2, 2)\n",
        "circuit.draw()"
      ],
      "execution_count": 34,
      "outputs": [
        {
          "output_type": "execute_result",
          "data": {
            "text/html": [
              "<pre style=\"word-wrap: normal;white-space: pre;background: #fff0;line-height: 1.1;font-family: &quot;Courier New&quot;,Courier,monospace\">     ┌───┐ ░                ┌───┐ ░ ┌─┐    ░          ░    \n",
              "q_0: ┤ X ├─░─────────────■──┤ H ├─░─┤M├────░───────■──░────\n",
              "     └───┘ ░ ┌───┐     ┌─┴─┐└───┘ ░ └╥┘┌─┐ ░       │  ░    \n",
              "q_1: ──────░─┤ H ├──■──┤ X ├──────░──╫─┤M├─░───■───┼──░────\n",
              "           ░ └───┘┌─┴─┐└───┘      ░  ║ └╥┘ ░ ┌─┴─┐ │  ░ ┌─┐\n",
              "q_2: ──────░──────┤ X ├───────────░──╫──╫──░─┤ X ├─■──░─┤M├\n",
              "           ░      └───┘           ░  ║  ║  ░ └───┘    ░ └╥┘\n",
              "c: 3/════════════════════════════════╩══╩════════════════╩═\n",
              "                                     0  1                2 </pre>"
            ],
            "text/plain": [
              "     ┌───┐ ░                ┌───┐ ░ ┌─┐    ░          ░    \n",
              "q_0: ┤ X ├─░─────────────■──┤ H ├─░─┤M├────░───────■──░────\n",
              "     └───┘ ░ ┌───┐     ┌─┴─┐└───┘ ░ └╥┘┌─┐ ░       │  ░    \n",
              "q_1: ──────░─┤ H ├──■──┤ X ├──────░──╫─┤M├─░───■───┼──░────\n",
              "           ░ └───┘┌─┴─┐└───┘      ░  ║ └╥┘ ░ ┌─┴─┐ │  ░ ┌─┐\n",
              "q_2: ──────░──────┤ X ├───────────░──╫──╫──░─┤ X ├─■──░─┤M├\n",
              "           ░      └───┘           ░  ║  ║  ░ └───┘    ░ └╥┘\n",
              "c: 3/════════════════════════════════╩══╩════════════════╩═\n",
              "                                     0  1                2 "
            ]
          },
          "metadata": {
            "tags": []
          },
          "execution_count": 34
        }
      ]
    },
    {
      "cell_type": "markdown",
      "metadata": {
        "id": "Ti7tZAnLlARe"
      },
      "source": [
        "Let's simulate and measure the circuit to verify that information was teleported from `q0` to `q2`."
      ]
    },
    {
      "cell_type": "code",
      "metadata": {
        "colab": {
          "base_uri": "https://localhost:8080/",
          "height": 374
        },
        "id": "wt3HmJd2yass",
        "outputId": "a71abc3d-338a-4297-b434-fcbe86d602ee"
      },
      "source": [
        "from qiskit import transpile\n",
        "nshots = 5000\n",
        "\n",
        "# use Aer's simulator to transpile\n",
        "simulator = QasmSimulator()\n",
        "compiled_circuit = transpile(circuit, simulator)\n",
        "result = simulator.run(compiled_circuit, shots=nshots).result()\n",
        "\n",
        "# Returns counts\n",
        "counts = result.get_counts(circuit)\n",
        "print(\"\\nTotal count for 0 and 1 are:\",counts)\n",
        "plot_histogram(result.get_counts())"
      ],
      "execution_count": 35,
      "outputs": [
        {
          "output_type": "stream",
          "text": [
            "\n",
            "Total count for 0 and 1 are: {'100': 1284, '111': 1248, '110': 1220, '101': 1248}\n"
          ],
          "name": "stdout"
        },
        {
          "output_type": "execute_result",
          "data": {
            "image/png": "[encoded data removed]",
            "text/plain": [
              "<Figure size 504x360 with 1 Axes>"
            ]
          },
          "metadata": {
            "tags": []
          },
          "execution_count": 35
        }
      ]
    },
    {
      "cell_type": "code",
      "metadata": {
        "colab": {
          "base_uri": "https://localhost:8080/",
          "height": 340
        },
        "id": "GFN75Md2lARe",
        "outputId": "c50725c1-3d32-4669-c4df-5a56ec082f06"
      },
      "source": [
        "result = qiskit.execute(circuit, backend=qiskit.Aer.get_backend('qasm_simulator'), shots=1024).result()\n",
        "visualization.plot_histogram(result.get_counts())"
      ],
      "execution_count": 134,
      "outputs": [
        {
          "output_type": "execute_result",
          "data": {
            "image/png": "[encoded data removed]",
            "text/plain": [
              "<Figure size 504x360 with 1 Axes>"
            ]
          },
          "metadata": {
            "tags": []
          },
          "execution_count": 134
        }
      ]
    },
    {
      "cell_type": "code",
      "metadata": {
        "id": "8-R5WLmqz9KP"
      },
      "source": [
        "from qiskit.providers.ibmq import least_busy\n",
        "import math"
      ],
      "execution_count": 14,
      "outputs": []
    },
    {
      "cell_type": "code",
      "metadata": {
        "colab": {
          "base_uri": "https://localhost:8080/",
          "height": 289
        },
        "id": "6MrO1YLEJeFU",
        "outputId": "9a2b1782-d5c4-4fb6-fbdc-32511a08208e"
      },
      "source": [
        "circuit2 = qiskit.QuantumCircuit(3, 3)\n",
        "circuit2.x(0)\n",
        "circuit2.barrier()\n",
        "#circuit2.h(1)\n",
        "circuit2.rz(math.pi/2,1) # The computer did not have an H gate, so it build an equivalent from these 3\n",
        "circuit2.sxdg(1)\n",
        "circuit2.rz(math.pi/2,1)\n",
        "circuit2.barrier()\n",
        "circuit2.cx(1, 2)\n",
        "circuit2.cx(0, 1)\n",
        "#circuit2.h(0)\n",
        "circuit2.rz(math.pi/2,0) # The computer did not have an H gate, so it build an equivalent from these 3\n",
        "circuit2.sxdg(0)\n",
        "circuit2.rz(math.pi/2,0)\n",
        "circuit2.barrier()\n",
        "circuit2.measure([0, 1], [0, 1])\n",
        "circuit2.barrier()\n",
        "circuit2.cx(1, 2)\n",
        "circuit2.cz(0,2)\n",
        "circuit2.barrier()\n",
        "circuit2.measure(2, 2)\n",
        "\n",
        "circuit2.draw()"
      ],
      "execution_count": 27,
      "outputs": [
        {
          "output_type": "execute_result",
          "data": {
            "text/html": [
              "<pre style=\"word-wrap: normal;white-space: pre;background: #fff0;line-height: 1.1;font-family: &quot;Courier New&quot;,Courier,monospace\">     ┌───┐ ░                                ░           ┌─────────┐┌──────┐»\n",
              "q_0: ┤ X ├─░────────────────────────────────░────────■──┤ RZ(π/2) ├┤ √XDG ├»\n",
              "     └───┘ ░ ┌─────────┐┌──────┐┌─────────┐ ░      ┌─┴─┐└─────────┘└──────┘»\n",
              "q_1: ──────░─┤ RZ(π/2) ├┤ √XDG ├┤ RZ(π/2) ├─░───■──┤ X ├───────────────────»\n",
              "           ░ └─────────┘└──────┘└─────────┘ ░ ┌─┴─┐└───┘                   »\n",
              "q_2: ──────░────────────────────────────────░─┤ X ├────────────────────────»\n",
              "           ░                                ░ └───┘                        »\n",
              "c: 3/══════════════════════════════════════════════════════════════════════»\n",
              "                                                                           »\n",
              "«     ┌─────────┐ ░ ┌─┐    ░          ░    \n",
              "«q_0: ┤ RZ(π/2) ├─░─┤M├────░───────■──░────\n",
              "«     └─────────┘ ░ └╥┘┌─┐ ░       │  ░    \n",
              "«q_1: ────────────░──╫─┤M├─░───■───┼──░────\n",
              "«                 ░  ║ └╥┘ ░ ┌─┴─┐ │  ░ ┌─┐\n",
              "«q_2: ────────────░──╫──╫──░─┤ X ├─■──░─┤M├\n",
              "«                 ░  ║  ║  ░ └───┘    ░ └╥┘\n",
              "«c: 3/═══════════════╩══╩════════════════╩═\n",
              "«                    0  1                2 </pre>"
            ],
            "text/plain": [
              "     ┌───┐ ░                                ░           ┌─────────┐┌──────┐»\n",
              "q_0: ┤ X ├─░────────────────────────────────░────────■──┤ RZ(π/2) ├┤ √XDG ├»\n",
              "     └───┘ ░ ┌─────────┐┌──────┐┌─────────┐ ░      ┌─┴─┐└─────────┘└──────┘»\n",
              "q_1: ──────░─┤ RZ(π/2) ├┤ √XDG ├┤ RZ(π/2) ├─░───■──┤ X ├───────────────────»\n",
              "           ░ └─────────┘└──────┘└─────────┘ ░ ┌─┴─┐└───┘                   »\n",
              "q_2: ──────░────────────────────────────────░─┤ X ├────────────────────────»\n",
              "           ░                                ░ └───┘                        »\n",
              "c: 3/══════════════════════════════════════════════════════════════════════»\n",
              "                                                                           »\n",
              "«     ┌─────────┐ ░ ┌─┐    ░          ░    \n",
              "«q_0: ┤ RZ(π/2) ├─░─┤M├────░───────■──░────\n",
              "«     └─────────┘ ░ └╥┘┌─┐ ░       │  ░    \n",
              "«q_1: ────────────░──╫─┤M├─░───■───┼──░────\n",
              "«                 ░  ║ └╥┘ ░ ┌─┴─┐ │  ░ ┌─┐\n",
              "«q_2: ────────────░──╫──╫──░─┤ X ├─■──░─┤M├\n",
              "«                 ░  ║  ║  ░ └───┘    ░ └╥┘\n",
              "«c: 3/═══════════════╩══╩════════════════╩═\n",
              "«                    0  1                2 "
            ]
          },
          "metadata": {
            "tags": []
          },
          "execution_count": 27
        }
      ]
    },
    {
      "cell_type": "markdown",
      "metadata": {
        "id": "j2zcD3jAzbSq"
      },
      "source": [
        "As we can see last qubit which is at the bottom gives $|1>$ for all four answers when bob measures his qubit. and information is now transformed."
      ]
    },
    {
      "cell_type": "code",
      "metadata": {
        "colab": {
          "base_uri": "https://localhost:8080/",
          "height": 394
        },
        "id": "q8hIk4TlzskQ",
        "outputId": "eb0caecf-b24e-409b-8ea1-d4f0f5f12344"
      },
      "source": [
        "from qiskit import IBMQ\n",
        "IBMQ.save_account('09d1607f86e6fa23cdae79970df7251be4bc9d52bd95a2851c37b9b7b2cb4458986455ebaf88028e4f0052cf57b9816af5145e911448e580d493769746ef0fd1')\n",
        "IBMQ.load_account()\n",
        "provider = IBMQ.get_provider('ibm-q')\n",
        "qcomp = provider.get_backend('ibmq_santiago') # check which one has 0 jobs on queue\n",
        "job = qiskit.execute(circuit2, backend=qcomp)\n",
        "q_result = job.result()\n",
        "qiskit.visualization.plot_histogram(q_result.get_counts(circuit2))"
      ],
      "execution_count": 28,
      "outputs": [
        {
          "output_type": "stream",
          "text": [
            "configrc.store_credentials:WARNING:2021-05-01 18:44:26,244: Credentials already present. Set overwrite=True to overwrite.\n",
            "ibmqfactory.load_account:WARNING:2021-05-01 18:44:26,463: Credentials are already in use. The existing account in the session will be replaced.\n"
          ],
          "name": "stderr"
        },
        {
          "output_type": "execute_result",
          "data": {
            "image/png": "[encoded data removed]",
            "text/plain": [
              "<Figure size 504x360 with 1 Axes>"
            ]
          },
          "metadata": {
            "tags": []
          },
          "execution_count": 28
        }
      ]
    },
    {
      "cell_type": "code",
      "metadata": {
        "colab": {
          "base_uri": "https://localhost:8080/",
          "height": 340
        },
        "id": "EEJGOjXd0hvr",
        "outputId": "12040545-d164-495e-f6d3-33094e08a6fd"
      },
      "source": [
        "job = qiskit.execute(circuit, backend=qcomp)\n",
        "q_result = job.result()\n",
        "qiskit.visualization.plot_histogram(q_result.get_counts(circuit))"
      ],
      "execution_count": 36,
      "outputs": [
        {
          "output_type": "execute_result",
          "data": {
            "image/png": "[encoded data removed]",
            "text/plain": [
              "<Figure size 504x360 with 1 Axes>"
            ]
          },
          "metadata": {
            "tags": []
          },
          "execution_count": 36
        }
      ]
    },
    {
      "cell_type": "markdown",
      "metadata": {
        "id": "Z8NlU2ZTQfEY"
      },
      "source": [
        "here I have used two different circuits to work it on IBMQ systems. One is with H gate and another with equvivalent of that."
      ]
    },
    {
      "cell_type": "code",
      "metadata": {
        "id": "pw4mE-WUQc1c"
      },
      "source": [
        ""
      ],
      "execution_count": null,
      "outputs": []
    }
  ]
}